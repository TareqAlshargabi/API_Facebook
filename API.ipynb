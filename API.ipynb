{
 "cells": [
  {
   "cell_type": "code",
   "execution_count": 15,
   "metadata": {},
   "outputs": [],
   "source": [
    "token ='EAAIMqCujGusBAFDilwoZAEAmRKSkfLywhh791GflOvC6fGzZBoYkrT0xAxcv9TQp8AsTDKLDjfbA0ZBZAGxIEaHYXLiEndE5VYGSAWZA9zq62qDGzf76tJU957S5TeLLdbLbhJYQfE4CN8ORBlvpWWxBnwZAWOI8G6PhgfjBrl4ELqDJBbRd50RxnOsGx9eZA72YgTgi4DgHPGBEKDYbZB3TWYf0aPZAZCQ3RwcZBmRZA7I1wAZDZD'"
   ]
  },
  {
   "cell_type": "code",
   "execution_count": 16,
   "metadata": {},
   "outputs": [],
   "source": [
    "me = 'https://graph.facebook.com/v6.0/me?access_token='+token"
   ]
  },
  {
   "cell_type": "code",
   "execution_count": 17,
   "metadata": {},
   "outputs": [],
   "source": [
    "import requests"
   ]
  },
  {
   "cell_type": "code",
   "execution_count": 18,
   "metadata": {},
   "outputs": [],
   "source": [
    "me1 = requests.get(me)"
   ]
  },
  {
   "cell_type": "code",
   "execution_count": 20,
   "metadata": {},
   "outputs": [
    {
     "data": {
      "text/plain": [
       "{'name': 'Tareq Yassine', 'id': '10156551294727134'}"
      ]
     },
     "execution_count": 20,
     "metadata": {},
     "output_type": "execute_result"
    }
   ],
   "source": [
    "me1.json()"
   ]
  },
  {
   "cell_type": "code",
   "execution_count": null,
   "metadata": {},
   "outputs": [],
   "source": []
  }
 ],
 "metadata": {
  "kernelspec": {
   "display_name": "Python 3",
   "language": "python",
   "name": "python3"
  },
  "language_info": {
   "codemirror_mode": {
    "name": "ipython",
    "version": 3
   },
   "file_extension": ".py",
   "mimetype": "text/x-python",
   "name": "python",
   "nbconvert_exporter": "python",
   "pygments_lexer": "ipython3",
   "version": "3.7.3"
  }
 },
 "nbformat": 4,
 "nbformat_minor": 2
}
